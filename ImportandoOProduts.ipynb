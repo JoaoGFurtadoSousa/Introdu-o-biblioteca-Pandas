{
 "cells": [
  {
   "cell_type": "code",
   "execution_count": 3,
   "id": "a34f1c76-73cc-4307-9662-e2734c90c9a4",
   "metadata": {},
   "outputs": [],
   "source": [
    "import pandas as pd"
   ]
  },
  {
   "cell_type": "code",
   "execution_count": 12,
   "id": "c5977bbe-2b31-46bc-9705-f2d3926c825e",
   "metadata": {},
   "outputs": [
    {
     "data": {
      "text/html": [
       "<div>\n",
       "<style scoped>\n",
       "    .dataframe tbody tr th:only-of-type {\n",
       "        vertical-align: middle;\n",
       "    }\n",
       "\n",
       "    .dataframe tbody tr th {\n",
       "        vertical-align: top;\n",
       "    }\n",
       "\n",
       "    .dataframe thead th {\n",
       "        text-align: right;\n",
       "    }\n",
       "</style>\n",
       "<table border=\"1\" class=\"dataframe\">\n",
       "  <thead>\n",
       "    <tr style=\"text-align: right;\">\n",
       "      <th></th>\n",
       "      <th>Id</th>\n",
       "      <th>Nome</th>\n",
       "      <th>Descrição</th>\n",
       "    </tr>\n",
       "  </thead>\n",
       "  <tbody>\n",
       "    <tr>\n",
       "      <th>0</th>\n",
       "      <td>1</td>\n",
       "      <td>ChatMessage</td>\n",
       "      <td>Mensagem do chat da Twitch</td>\n",
       "    </tr>\n",
       "    <tr>\n",
       "      <th>1</th>\n",
       "      <td>2</td>\n",
       "      <td>Resgatar Ponei</td>\n",
       "      <td>Poneis resgatados a partir dos pontos que a Tw...</td>\n",
       "    </tr>\n",
       "    <tr>\n",
       "      <th>2</th>\n",
       "      <td>3</td>\n",
       "      <td>Lista de presença</td>\n",
       "      <td>Assinatura da lista durante as lives (!presente)</td>\n",
       "    </tr>\n",
       "    <tr>\n",
       "      <th>3</th>\n",
       "      <td>4</td>\n",
       "      <td>Troca de Pontos StreamElements</td>\n",
       "      <td>Troca de cubos por datapoints</td>\n",
       "    </tr>\n",
       "    <tr>\n",
       "      <th>4</th>\n",
       "      <td>5</td>\n",
       "      <td>Presença Streak</td>\n",
       "      <td>Streak de pontos para quem tem recorrência de ...</td>\n",
       "    </tr>\n",
       "  </tbody>\n",
       "</table>\n",
       "</div>"
      ],
      "text/plain": [
       "   Id                            Nome  \\\n",
       "0   1                     ChatMessage   \n",
       "1   2                  Resgatar Ponei   \n",
       "2   3               Lista de presença   \n",
       "3   4  Troca de Pontos StreamElements   \n",
       "4   5                 Presença Streak   \n",
       "\n",
       "                                           Descrição  \n",
       "0                         Mensagem do chat da Twitch  \n",
       "1  Poneis resgatados a partir dos pontos que a Tw...  \n",
       "2   Assinatura da lista durante as lives (!presente)  \n",
       "3                      Troca de cubos por datapoints  \n",
       "4  Streak de pontos para quem tem recorrência de ...  "
      ]
     },
     "execution_count": 12,
     "metadata": {},
     "output_type": "execute_result"
    }
   ],
   "source": [
    "dataframe=pd.read_csv('desbravando-pandas-main/products (1).csv',\n",
    "                      sep=';',\n",
    "                     names=['Id','Nome','Descrição'])\n",
    "# Names Cria o nome das nossas colunas\n",
    "dataframe"
   ]
  },
  {
   "cell_type": "code",
   "execution_count": 14,
   "id": "3227efbe-8058-4a13-a39e-6b505d1b5489",
   "metadata": {},
   "outputs": [
    {
     "data": {
      "text/html": [
       "<div>\n",
       "<style scoped>\n",
       "    .dataframe tbody tr th:only-of-type {\n",
       "        vertical-align: middle;\n",
       "    }\n",
       "\n",
       "    .dataframe tbody tr th {\n",
       "        vertical-align: top;\n",
       "    }\n",
       "\n",
       "    .dataframe thead th {\n",
       "        text-align: right;\n",
       "    }\n",
       "</style>\n",
       "<table border=\"1\" class=\"dataframe\">\n",
       "  <thead>\n",
       "    <tr style=\"text-align: right;\">\n",
       "      <th></th>\n",
       "      <th>Id</th>\n",
       "      <th>Nome dos Usuarios</th>\n",
       "      <th>Mensagem do Chat</th>\n",
       "    </tr>\n",
       "  </thead>\n",
       "  <tbody>\n",
       "    <tr>\n",
       "      <th>0</th>\n",
       "      <td>1</td>\n",
       "      <td>ChatMessage</td>\n",
       "      <td>Mensagem do chat da Twitch</td>\n",
       "    </tr>\n",
       "    <tr>\n",
       "      <th>1</th>\n",
       "      <td>2</td>\n",
       "      <td>Resgatar Ponei</td>\n",
       "      <td>Poneis resgatados a partir dos pontos que a Tw...</td>\n",
       "    </tr>\n",
       "    <tr>\n",
       "      <th>2</th>\n",
       "      <td>3</td>\n",
       "      <td>Lista de presença</td>\n",
       "      <td>Assinatura da lista durante as lives (!presente)</td>\n",
       "    </tr>\n",
       "    <tr>\n",
       "      <th>3</th>\n",
       "      <td>4</td>\n",
       "      <td>Troca de Pontos StreamElements</td>\n",
       "      <td>Troca de cubos por datapoints</td>\n",
       "    </tr>\n",
       "    <tr>\n",
       "      <th>4</th>\n",
       "      <td>5</td>\n",
       "      <td>Presença Streak</td>\n",
       "      <td>Streak de pontos para quem tem recorrência de ...</td>\n",
       "    </tr>\n",
       "  </tbody>\n",
       "</table>\n",
       "</div>"
      ],
      "text/plain": [
       "   Id               Nome dos Usuarios  \\\n",
       "0   1                     ChatMessage   \n",
       "1   2                  Resgatar Ponei   \n",
       "2   3               Lista de presença   \n",
       "3   4  Troca de Pontos StreamElements   \n",
       "4   5                 Presença Streak   \n",
       "\n",
       "                                    Mensagem do Chat  \n",
       "0                         Mensagem do chat da Twitch  \n",
       "1  Poneis resgatados a partir dos pontos que a Tw...  \n",
       "2   Assinatura da lista durante as lives (!presente)  \n",
       "3                      Troca de cubos por datapoints  \n",
       "4  Streak de pontos para quem tem recorrência de ...  "
      ]
     },
     "execution_count": 14,
     "metadata": {},
     "output_type": "execute_result"
    }
   ],
   "source": [
    "# mudando o nome das colunas\n",
    "dataframe.rename(columns={'Nome':'Nome dos Usuarios',\n",
    "                         'Descrição':'Mensagem do Chat'},inplace=True)\n",
    "dataframe"
   ]
  },
  {
   "cell_type": "code",
   "execution_count": null,
   "id": "4072bf5d-ea7b-402f-923a-5af5ce853be0",
   "metadata": {},
   "outputs": [],
   "source": []
  }
 ],
 "metadata": {
  "kernelspec": {
   "display_name": "Python 3 (ipykernel)",
   "language": "python",
   "name": "python3"
  },
  "language_info": {
   "codemirror_mode": {
    "name": "ipython",
    "version": 3
   },
   "file_extension": ".py",
   "mimetype": "text/x-python",
   "name": "python",
   "nbconvert_exporter": "python",
   "pygments_lexer": "ipython3",
   "version": "3.12.4"
  }
 },
 "nbformat": 4,
 "nbformat_minor": 5
}
