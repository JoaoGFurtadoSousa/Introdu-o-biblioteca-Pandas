{
 "cells": [
  {
   "cell_type": "code",
   "execution_count": 2,
   "id": "29718a88-6c6d-47c0-a318-841b3743c022",
   "metadata": {},
   "outputs": [],
   "source": [
    "import pandas as pd"
   ]
  },
  {
   "cell_type": "code",
   "execution_count": 54,
   "id": "d074ac35-38e2-4f52-bbd9-83c93408e413",
   "metadata": {},
   "outputs": [
    {
     "data": {
      "text/plain": [
       "['Joao', 'Julisbelton', 'Roberto', 'Camila', 'Edilaine']"
      ]
     },
     "execution_count": 54,
     "metadata": {},
     "output_type": "execute_result"
    }
   ],
   "source": [
    "\n",
    "\n",
    "\n",
    "idades=[19,18,20,25,22]\n",
    "nomes=['Joao','Julisbelton','Roberto','Camila',\"Edilaine\",]\n",
    "nomes"
   ]
  },
  {
   "cell_type": "code",
   "execution_count": 56,
   "id": "7e5668d4-d998-4156-b8d6-30d8bc870994",
   "metadata": {},
   "outputs": [
    {
     "data": {
      "text/plain": [
       "Joao           19\n",
       "Julisbelton    18\n",
       "Roberto        20\n",
       "Camila         25\n",
       "Edilaine       22\n",
       "dtype: int64"
      ]
     },
     "execution_count": 56,
     "metadata": {},
     "output_type": "execute_result"
    }
   ],
   "source": [
    "#Exibindo as nossas colunas \n",
    "\n",
    "series_idade=pd.Series(idades,nomes)\n",
    "\n",
    "\n",
    "series_idade"
   ]
  },
  {
   "cell_type": "code",
   "execution_count": 57,
   "id": "a1e7ddc2-fcfd-4c01-a230-5679d9b3110c",
   "metadata": {},
   "outputs": [
    {
     "data": {
      "text/plain": [
       "count     5.000000\n",
       "mean     20.800000\n",
       "std       2.774887\n",
       "min      18.000000\n",
       "25%      19.000000\n",
       "50%      20.000000\n",
       "75%      22.000000\n",
       "max      25.000000\n",
       "dtype: float64"
      ]
     },
     "execution_count": 57,
     "metadata": {},
     "output_type": "execute_result"
    }
   ],
   "source": [
    "#Exibindo nossa analise descritiva\n",
    "\n",
    "series_idade.describe()"
   ]
  },
  {
   "cell_type": "code",
   "execution_count": 58,
   "id": "c4ee0fe0-0433-4f2e-891c-c22edab4878e",
   "metadata": {},
   "outputs": [
    {
     "data": {
      "text/plain": [
       "pandas.core.series.Series"
      ]
     },
     "execution_count": 58,
     "metadata": {},
     "output_type": "execute_result"
    }
   ],
   "source": [
    "#Confirmando o tipo primitivo da series\n",
    "\n",
    "type(series_idade)"
   ]
  },
  {
   "cell_type": "code",
   "execution_count": 64,
   "id": "80bd653e-df62-41d4-802f-61d6ad397e68",
   "metadata": {},
   "outputs": [
    {
     "data": {
      "text/plain": [
       "Joao    19\n",
       "dtype: int64"
      ]
     },
     "execution_count": 64,
     "metadata": {},
     "output_type": "execute_result"
    }
   ],
   "source": [
    "#Navegando no series de uma forma inapropriada\n",
    "\n",
    "series_idade[0:1]"
   ]
  },
  {
   "cell_type": "code",
   "execution_count": 66,
   "id": "e4391ffe-ee3f-4541-8646-8246dc16eb20",
   "metadata": {},
   "outputs": [
    {
     "name": "stdout",
     "output_type": "stream",
     "text": [
      "o    18\n",
      "o    25\n",
      "dtype: int64\n",
      "20\n"
     ]
    }
   ],
   "source": [
    "#Mudando o indice\n",
    "\n",
    "series_idade.index=['j','o','a','o','g']\n",
    "print(series_idade.loc['o'])\n",
    "print(series_idade.iloc[2])"
   ]
  },
  {
   "cell_type": "code",
   "execution_count": 67,
   "id": "49390690-1058-4211-ad92-6f47f2a17ce4",
   "metadata": {},
   "outputs": [
    {
     "data": {
      "text/plain": [
       "20"
      ]
     },
     "execution_count": 67,
     "metadata": {},
     "output_type": "execute_result"
    }
   ],
   "source": [
    "# Percorrendo o series independente do indice. As vezes eu nao sei o indice e quero saber\n",
    "# o elemento só pela posição.Percorre como se fosse uma lista \n",
    "\n",
    "series_idade.iloc[2]"
   ]
  },
  {
   "cell_type": "code",
   "execution_count": 68,
   "id": "5ab02121-cffd-48a4-bf7b-bd286b711d4a",
   "metadata": {},
   "outputs": [
    {
     "data": {
      "text/plain": [
       "o    18\n",
       "o    25\n",
       "dtype: int64"
      ]
     },
     "execution_count": 68,
     "metadata": {},
     "output_type": "execute_result"
    }
   ],
   "source": [
    "# Loc percorre pelo INDICE que foi declarado pelo usuario. \n",
    "\n",
    "series_idade.loc['o']"
   ]
  },
  {
   "cell_type": "code",
   "execution_count": 38,
   "id": "c3e40a3b-9c97-4f94-92ae-02f823a45989",
   "metadata": {},
   "outputs": [
    {
     "data": {
      "text/plain": [
       "'Junior'"
      ]
     },
     "execution_count": 38,
     "metadata": {},
     "output_type": "execute_result"
    }
   ],
   "source": [
    "# Criando um dicionario\n",
    "\n",
    "dicionario={\"Nomes\":[\"Gilberto\",\"Gil\",\"Robertson\",\"Camille\"],\n",
    "           \"Sobrenome\":[\"Gil\",\"Junior\",\"Neymar\",\"Fonseca\"],\n",
    "           \"idade\":[25,26,45,35]}\n",
    "\n",
    "dicionario[\"Sobrenome\"][1]"
   ]
  },
  {
   "cell_type": "code",
   "execution_count": 42,
   "id": "b9e077c3-464d-415e-bf80-4215baf08f97",
   "metadata": {},
   "outputs": [
    {
     "data": {
      "text/html": [
       "<div>\n",
       "<style scoped>\n",
       "    .dataframe tbody tr th:only-of-type {\n",
       "        vertical-align: middle;\n",
       "    }\n",
       "\n",
       "    .dataframe tbody tr th {\n",
       "        vertical-align: top;\n",
       "    }\n",
       "\n",
       "    .dataframe thead th {\n",
       "        text-align: right;\n",
       "    }\n",
       "</style>\n",
       "<table border=\"1\" class=\"dataframe\">\n",
       "  <thead>\n",
       "    <tr style=\"text-align: right;\">\n",
       "      <th></th>\n",
       "      <th>Nomes</th>\n",
       "      <th>Sobrenome</th>\n",
       "      <th>idade</th>\n",
       "    </tr>\n",
       "  </thead>\n",
       "  <tbody>\n",
       "    <tr>\n",
       "      <th>0</th>\n",
       "      <td>Gilberto</td>\n",
       "      <td>Gil</td>\n",
       "      <td>25</td>\n",
       "    </tr>\n",
       "    <tr>\n",
       "      <th>1</th>\n",
       "      <td>Gil</td>\n",
       "      <td>Junior</td>\n",
       "      <td>26</td>\n",
       "    </tr>\n",
       "    <tr>\n",
       "      <th>2</th>\n",
       "      <td>Robertson</td>\n",
       "      <td>Neymar</td>\n",
       "      <td>45</td>\n",
       "    </tr>\n",
       "    <tr>\n",
       "      <th>3</th>\n",
       "      <td>Camille</td>\n",
       "      <td>Fonseca</td>\n",
       "      <td>35</td>\n",
       "    </tr>\n",
       "  </tbody>\n",
       "</table>\n",
       "</div>"
      ],
      "text/plain": [
       "       Nomes Sobrenome  idade\n",
       "0   Gilberto       Gil     25\n",
       "1        Gil    Junior     26\n",
       "2  Robertson    Neymar     45\n",
       "3    Camille   Fonseca     35"
      ]
     },
     "execution_count": 42,
     "metadata": {},
     "output_type": "execute_result"
    }
   ],
   "source": [
    "# Criando um dicionario e atribuindo a ele o nosso dicionario\n",
    "\n",
    "dataframe=pd.DataFrame(dicionario)\n",
    "dataframe"
   ]
  },
  {
   "cell_type": "code",
   "execution_count": 48,
   "id": "11d5e488-57f4-4eaa-90ab-44ef07a17de6",
   "metadata": {},
   "outputs": [
    {
     "data": {
      "text/plain": [
       "Nomes        Gilberto\n",
       "Sobrenome         Gil\n",
       "idade              25\n",
       "Name: 0, dtype: object"
      ]
     },
     "execution_count": 48,
     "metadata": {},
     "output_type": "execute_result"
    }
   ],
   "source": [
    "# Navegando pelo dataframe pegando uma linha toda\n",
    "\n",
    "dataframe.iloc[0]"
   ]
  },
  {
   "cell_type": "code",
   "execution_count": 51,
   "id": "28ace7d5-229d-4ddd-82df-c6d41c305fe2",
   "metadata": {},
   "outputs": [
    {
     "data": {
      "text/plain": [
       "0     Gilberto\n",
       "1          Gil\n",
       "2    Robertson\n",
       "3      Camille\n",
       "Name: Nomes, dtype: object"
      ]
     },
     "execution_count": 51,
     "metadata": {},
     "output_type": "execute_result"
    }
   ],
   "source": [
    "#Exibindo uma coluna inteira (Series)\n",
    "\n",
    "dataframe['Nomes']"
   ]
  },
  {
   "cell_type": "code",
   "execution_count": 53,
   "id": "2affa142-e84f-4926-a35f-c3ca19497285",
   "metadata": {},
   "outputs": [
    {
     "name": "stdout",
     "output_type": "stream",
     "text": [
      "<class 'pandas.core.frame.DataFrame'>\n",
      "RangeIndex: 4 entries, 0 to 3\n",
      "Data columns (total 3 columns):\n",
      " #   Column     Non-Null Count  Dtype \n",
      "---  ------     --------------  ----- \n",
      " 0   Nomes      4 non-null      object\n",
      " 1   Sobrenome  4 non-null      object\n",
      " 2   idade      4 non-null      int64 \n",
      "dtypes: int64(1), object(2)\n",
      "memory usage: 228.0+ bytes\n"
     ]
    }
   ],
   "source": [
    "dataframe.info()"
   ]
  },
  {
   "cell_type": "code",
   "execution_count": 72,
   "id": "09da1f41-2f41-46f2-af54-eab8306d2cc5",
   "metadata": {},
   "outputs": [
    {
     "data": {
      "text/plain": [
       "count     4.0\n",
       "mean     19.0\n",
       "std      20.0\n",
       "min       2.0\n",
       "25%       5.0\n",
       "50%      15.0\n",
       "75%      29.0\n",
       "max      45.0\n",
       "dtype: float64"
      ]
     },
     "execution_count": 72,
     "metadata": {},
     "output_type": "execute_result"
    }
   ],
   "source": [
    "teste=(24,2,45,6)\n",
    "\n",
    "colunaTeste=pd.Series(teste)\n",
    "colunaTeste.describe().round()"
   ]
  },
  {
   "cell_type": "code",
   "execution_count": 2,
   "id": "78788332-d515-426e-82bb-bb87f154051d",
   "metadata": {},
   "outputs": [
    {
     "data": {
      "text/html": [
       "<div>\n",
       "<style scoped>\n",
       "    .dataframe tbody tr th:only-of-type {\n",
       "        vertical-align: middle;\n",
       "    }\n",
       "\n",
       "    .dataframe tbody tr th {\n",
       "        vertical-align: top;\n",
       "    }\n",
       "\n",
       "    .dataframe thead th {\n",
       "        text-align: right;\n",
       "    }\n",
       "</style>\n",
       "<table border=\"1\" class=\"dataframe\">\n",
       "  <thead>\n",
       "    <tr style=\"text-align: right;\">\n",
       "      <th></th>\n",
       "      <th>carros</th>\n",
       "      <th>ano</th>\n",
       "    </tr>\n",
       "  </thead>\n",
       "  <tbody>\n",
       "    <tr>\n",
       "      <th>0</th>\n",
       "      <td>Chevrolet</td>\n",
       "      <td>1999</td>\n",
       "    </tr>\n",
       "    <tr>\n",
       "      <th>1</th>\n",
       "      <td>Hyundai</td>\n",
       "      <td>2010</td>\n",
       "    </tr>\n",
       "    <tr>\n",
       "      <th>2</th>\n",
       "      <td>Saveiro</td>\n",
       "      <td>2004</td>\n",
       "    </tr>\n",
       "    <tr>\n",
       "      <th>3</th>\n",
       "      <td>Camaro</td>\n",
       "      <td>2019</td>\n",
       "    </tr>\n",
       "    <tr>\n",
       "      <th>4</th>\n",
       "      <td>Porsche</td>\n",
       "      <td>1987</td>\n",
       "    </tr>\n",
       "  </tbody>\n",
       "</table>\n",
       "</div>"
      ],
      "text/plain": [
       "      carros   ano\n",
       "0  Chevrolet  1999\n",
       "1    Hyundai  2010\n",
       "2    Saveiro  2004\n",
       "3     Camaro  2019\n",
       "4    Porsche  1987"
      ]
     },
     "execution_count": 2,
     "metadata": {},
     "output_type": "execute_result"
    }
   ],
   "source": [
    "import pandas as pd  # Importando a biblioteca pandas\n",
    "\n",
    "\n",
    "df = pd.DataFrame({\n",
    "    'carros': ['Chevrolet', 'Hyundai', 'Saveiro', 'Camaro', 'Porsche'],\n",
    "    'ano': [1999, 2010, 2004, 2019, 1987]\n",
    "})  # Criando o DataFrame\n",
    "\n",
    "df\n"
   ]
  },
  {
   "cell_type": "code",
   "execution_count": 3,
   "id": "ff809d56-7fbb-4df0-8820-11947b727a96",
   "metadata": {},
   "outputs": [
    {
     "data": {
      "text/plain": [
       "(5, 2)"
      ]
     },
     "execution_count": 3,
     "metadata": {},
     "output_type": "execute_result"
    }
   ],
   "source": [
    "df.shape\n"
   ]
  },
  {
   "cell_type": "code",
   "execution_count": 15,
   "id": "56cd5a04-28cb-412a-85ea-df102bc946c4",
   "metadata": {},
   "outputs": [
    {
     "name": "stdout",
     "output_type": "stream",
     "text": [
      "A media dos dados é de 41.0\n",
      "A desvio dos dados é de 23.048722084826952\n",
      "A maximo dos dados é de 89\n",
      "dict_items([('media', 41.0), ('desvio', 23.048722084826952), ('maximo', 89)])\n"
     ]
    }
   ],
   "source": [
    "# Exercicios \n",
    "\n",
    "dados=[10,20,42,35,36,37,22,89,66,23,46,75,31]\n",
    "\n",
    "series=pd.Series(dados)\n",
    "\n",
    "dicionario={\n",
    "'media':series.mean().round(),\n",
    "'desvio':series.std(),\n",
    "'maximo':series.max()\n",
    "}\n",
    "\n",
    "\n",
    "#Aqui eu estou atribuindo a chave e o valor do dicionario nas variaveis chave e valor.\n",
    "#entao em cada iteração, a chave e o valor mudam\n",
    "#isso dentro de um for\n",
    "#esse \n",
    "\n",
    "for chave,valor in dicionario.items():\n",
    "    print(f'A {chave} dos dados é de {valor}')\n",
    "\n",
    "\n",
    "# Esse dicionario.items() MOSTRA OS ITEMS DA NOSSO DICIONARIO\n",
    "print(dicionario.items())"
   ]
  },
  {
   "cell_type": "code",
   "execution_count": 33,
   "id": "c1c47e67-5c7e-44db-9419-a9886eb9f4dc",
   "metadata": {},
   "outputs": [
    {
     "name": "stdout",
     "output_type": "stream",
     "text": [
      "Sumario numerico:\n",
      " count     4.000000\n",
      "mean     24.750000\n",
      "std       8.460693\n",
      "min      14.000000\n",
      "25%      20.000000\n",
      "50%      26.500000\n",
      "75%      31.250000\n",
      "max      32.000000\n",
      "Name: idade, dtype: float64 \n",
      " Sumario String: count       4\n",
      "unique      3\n",
      "top       Téo\n",
      "freq        2\n",
      "Name: nome, dtype: object\n",
      "\n",
      "A media é 25.0\n",
      "\n",
      "O ultimo nome da coluna nome é Téo\n"
     ]
    }
   ],
   "source": [
    "# Exercicio 2\n",
    "import pandas as pd\n",
    "\n",
    "dados= {'nome':[\"Téo\", \"Nah\", \"Napoleão\",'Téo'], \n",
    "        'idade': [31, 32, 14,22]}\n",
    "\n",
    "dataframe=pd.DataFrame(dados)\n",
    "\n",
    "sumario_numerico=dataframe['idade'].describe()\n",
    "sumario_obj=dataframe['nome'].describe()\n",
    "\n",
    "print(f'Sumario numerico:\\n {sumario_numerico} \\n Sumario String: {sumario_obj}')\n",
    "print(f'\\nA media é {dataframe['idade'].mean().round()}')\n",
    "print(f'\\nO ultimo nome da coluna nome é {dataframe['nome'].iloc[-1]}') #Aqui eu tinha feito como se fosse em Lista, mas para ser que nem lista, tenho que\n",
    "#Colocar o Iloc\n"
   ]
  },
  {
   "cell_type": "code",
   "execution_count": 29,
   "id": "48c5f0d6-6f5e-43f8-bd4e-92c70c2e3909",
   "metadata": {},
   "outputs": [],
   "source": [
    "# Exercicio 2\n",
    "import pandas as pd\n",
    "\n",
    "dados= {'nome':[\"Téo\", \"Nah\", \"Napoleão\",'Téo'], \n",
    "        'idade': [31, 32, 14,22]}\n",
    "\n",
    "dataframe=pd.DataFrame(dados)"
   ]
  },
  {
   "cell_type": "code",
   "execution_count": null,
   "id": "85b7ec4b-aeb8-4add-a938-f38767215bdd",
   "metadata": {},
   "outputs": [],
   "source": []
  }
 ],
 "metadata": {
  "kernelspec": {
   "display_name": "Python 3 (ipykernel)",
   "language": "python",
   "name": "python3"
  },
  "language_info": {
   "codemirror_mode": {
    "name": "ipython",
    "version": 3
   },
   "file_extension": ".py",
   "mimetype": "text/x-python",
   "name": "python",
   "nbconvert_exporter": "python",
   "pygments_lexer": "ipython3",
   "version": "3.12.4"
  }
 },
 "nbformat": 4,
 "nbformat_minor": 5
}
