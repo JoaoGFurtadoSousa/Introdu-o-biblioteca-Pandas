{
 "cells": [
  {
   "cell_type": "code",
   "execution_count": 2,
   "id": "29718a88-6c6d-47c0-a318-841b3743c022",
   "metadata": {},
   "outputs": [],
   "source": [
    "import pandas as pd"
   ]
  },
  {
   "cell_type": "code",
   "execution_count": 10,
   "id": "d074ac35-38e2-4f52-bbd9-83c93408e413",
   "metadata": {},
   "outputs": [
    {
     "data": {
      "text/plain": [
       "['Joao', 'Mari', 'Roberto', 'Camila', 'Edilaine']"
      ]
     },
     "execution_count": 10,
     "metadata": {},
     "output_type": "execute_result"
    }
   ],
   "source": [
    "\n",
    "\n",
    "\n",
    "idades=[19,18,20,25,22]\n",
    "nomes=['Joao','Julisbelton','Roberto','Camila',\"Edilaine\",]\n",
    "nomes"
   ]
  },
  {
   "cell_type": "code",
   "execution_count": 24,
   "id": "7e5668d4-d998-4156-b8d6-30d8bc870994",
   "metadata": {},
   "outputs": [
    {
     "data": {
      "text/plain": [
       "count     5.000000\n",
       "mean     20.800000\n",
       "std       2.774887\n",
       "min      18.000000\n",
       "25%      19.000000\n",
       "50%      20.000000\n",
       "75%      22.000000\n",
       "max      25.000000\n",
       "dtype: float64"
      ]
     },
     "execution_count": 24,
     "metadata": {},
     "output_type": "execute_result"
    }
   ],
   "source": [
    "series_idade=pd.Series(idades,nomes)\n",
    "\n",
    "\n",
    "\n",
    "series_idade.describe()"
   ]
  },
  {
   "cell_type": "code",
   "execution_count": 19,
   "id": "c4ee0fe0-0433-4f2e-891c-c22edab4878e",
   "metadata": {},
   "outputs": [
    {
     "data": {
      "text/plain": [
       "pandas.core.series.Series"
      ]
     },
     "execution_count": 19,
     "metadata": {},
     "output_type": "execute_result"
    }
   ],
   "source": [
    "\n",
    "\n",
    "type(series_idade)"
   ]
  },
  {
   "cell_type": "code",
   "execution_count": 26,
   "id": "80bd653e-df62-41d4-802f-61d6ad397e68",
   "metadata": {},
   "outputs": [
    {
     "data": {
      "text/plain": [
       "Joao    19\n",
       "Mari    18\n",
       "dtype: int64"
      ]
     },
     "execution_count": 26,
     "metadata": {},
     "output_type": "execute_result"
    }
   ],
   "source": [
    "#Navegando no series de uma forma inapropriada\n",
    "\n",
    "series_idade[0:2]"
   ]
  },
  {
   "cell_type": "code",
   "execution_count": 35,
   "id": "e4391ffe-ee3f-4541-8646-8246dc16eb20",
   "metadata": {},
   "outputs": [
    {
     "name": "stdout",
     "output_type": "stream",
     "text": [
      "o    18\n",
      "o    25\n",
      "dtype: int64\n",
      "20\n"
     ]
    }
   ],
   "source": [
    "#Mudando o indice\n",
    "\n",
    "series_idade.index=['j','o','a','o','g']\n",
    "print(series_idade.loc['o'])\n",
    "print(series_idade.iloc[2])"
   ]
  },
  {
   "cell_type": "code",
   "execution_count": 30,
   "id": "49390690-1058-4211-ad92-6f47f2a17ce4",
   "metadata": {},
   "outputs": [
    {
     "data": {
      "text/plain": [
       "20"
      ]
     },
     "execution_count": 30,
     "metadata": {},
     "output_type": "execute_result"
    }
   ],
   "source": [
    "# Percorrendo o series independente do indice. As vezes eu nao sei o indice e quero saber\n",
    "# o elemento só pela posição.Percorre como se fosse uma lista \n",
    "\n",
    "series_idade.iloc[2]"
   ]
  },
  {
   "cell_type": "code",
   "execution_count": 38,
   "id": "c3e40a3b-9c97-4f94-92ae-02f823a45989",
   "metadata": {},
   "outputs": [
    {
     "data": {
      "text/plain": [
       "'Junior'"
      ]
     },
     "execution_count": 38,
     "metadata": {},
     "output_type": "execute_result"
    }
   ],
   "source": [
    "# Criando um dicionario\n",
    "\n",
    "dicionario={\"Nomes\":[\"Gilberto\",\"Gil\",\"Robertson\",\"Camille\"],\n",
    "           \"Sobrenome\":[\"Gil\",\"Junior\",\"Neymar\",\"Fonseca\"],\n",
    "           \"idade\":[25,26,45,35]}\n",
    "\n",
    "dicionario[\"Sobrenome\"][1]"
   ]
  },
  {
   "cell_type": "code",
   "execution_count": 42,
   "id": "b9e077c3-464d-415e-bf80-4215baf08f97",
   "metadata": {},
   "outputs": [
    {
     "data": {
      "text/html": [
       "<div>\n",
       "<style scoped>\n",
       "    .dataframe tbody tr th:only-of-type {\n",
       "        vertical-align: middle;\n",
       "    }\n",
       "\n",
       "    .dataframe tbody tr th {\n",
       "        vertical-align: top;\n",
       "    }\n",
       "\n",
       "    .dataframe thead th {\n",
       "        text-align: right;\n",
       "    }\n",
       "</style>\n",
       "<table border=\"1\" class=\"dataframe\">\n",
       "  <thead>\n",
       "    <tr style=\"text-align: right;\">\n",
       "      <th></th>\n",
       "      <th>Nomes</th>\n",
       "      <th>Sobrenome</th>\n",
       "      <th>idade</th>\n",
       "    </tr>\n",
       "  </thead>\n",
       "  <tbody>\n",
       "    <tr>\n",
       "      <th>0</th>\n",
       "      <td>Gilberto</td>\n",
       "      <td>Gil</td>\n",
       "      <td>25</td>\n",
       "    </tr>\n",
       "    <tr>\n",
       "      <th>1</th>\n",
       "      <td>Gil</td>\n",
       "      <td>Junior</td>\n",
       "      <td>26</td>\n",
       "    </tr>\n",
       "    <tr>\n",
       "      <th>2</th>\n",
       "      <td>Robertson</td>\n",
       "      <td>Neymar</td>\n",
       "      <td>45</td>\n",
       "    </tr>\n",
       "    <tr>\n",
       "      <th>3</th>\n",
       "      <td>Camille</td>\n",
       "      <td>Fonseca</td>\n",
       "      <td>35</td>\n",
       "    </tr>\n",
       "  </tbody>\n",
       "</table>\n",
       "</div>"
      ],
      "text/plain": [
       "       Nomes Sobrenome  idade\n",
       "0   Gilberto       Gil     25\n",
       "1        Gil    Junior     26\n",
       "2  Robertson    Neymar     45\n",
       "3    Camille   Fonseca     35"
      ]
     },
     "execution_count": 42,
     "metadata": {},
     "output_type": "execute_result"
    }
   ],
   "source": [
    "# Criando um dicionario e atribuindo a ele o nosso dicionario\n",
    "\n",
    "dataframe=pd.DataFrame(dicionario)\n",
    "dataframe"
   ]
  },
  {
   "cell_type": "code",
   "execution_count": 48,
   "id": "11d5e488-57f4-4eaa-90ab-44ef07a17de6",
   "metadata": {},
   "outputs": [
    {
     "data": {
      "text/plain": [
       "Nomes        Gilberto\n",
       "Sobrenome         Gil\n",
       "idade              25\n",
       "Name: 0, dtype: object"
      ]
     },
     "execution_count": 48,
     "metadata": {},
     "output_type": "execute_result"
    }
   ],
   "source": [
    "# Navegando pelo dataframe pegando uma linha toda\n",
    "\n",
    "dataframe.iloc[0]"
   ]
  },
  {
   "cell_type": "code",
   "execution_count": 51,
   "id": "28ace7d5-229d-4ddd-82df-c6d41c305fe2",
   "metadata": {},
   "outputs": [
    {
     "data": {
      "text/plain": [
       "0     Gilberto\n",
       "1          Gil\n",
       "2    Robertson\n",
       "3      Camille\n",
       "Name: Nomes, dtype: object"
      ]
     },
     "execution_count": 51,
     "metadata": {},
     "output_type": "execute_result"
    }
   ],
   "source": [
    "#Exibindo uma coluna inteira (Series)\n",
    "\n",
    "dataframe['Nomes']"
   ]
  },
  {
   "cell_type": "code",
   "execution_count": 53,
   "id": "2affa142-e84f-4926-a35f-c3ca19497285",
   "metadata": {},
   "outputs": [
    {
     "name": "stdout",
     "output_type": "stream",
     "text": [
      "<class 'pandas.core.frame.DataFrame'>\n",
      "RangeIndex: 4 entries, 0 to 3\n",
      "Data columns (total 3 columns):\n",
      " #   Column     Non-Null Count  Dtype \n",
      "---  ------     --------------  ----- \n",
      " 0   Nomes      4 non-null      object\n",
      " 1   Sobrenome  4 non-null      object\n",
      " 2   idade      4 non-null      int64 \n",
      "dtypes: int64(1), object(2)\n",
      "memory usage: 228.0+ bytes\n"
     ]
    }
   ],
   "source": [
    "dataframe.info()"
   ]
  },
  {
   "cell_type": "code",
   "execution_count": null,
   "id": "09da1f41-2f41-46f2-af54-eab8306d2cc5",
   "metadata": {},
   "outputs": [],
   "source": []
  }
 ],
 "metadata": {
  "kernelspec": {
   "display_name": "Python 3 (ipykernel)",
   "language": "python",
   "name": "python3"
  },
  "language_info": {
   "codemirror_mode": {
    "name": "ipython",
    "version": 3
   },
   "file_extension": ".py",
   "mimetype": "text/x-python",
   "name": "python",
   "nbconvert_exporter": "python",
   "pygments_lexer": "ipython3",
   "version": "3.12.4"
  }
 },
 "nbformat": 4,
 "nbformat_minor": 5
}
